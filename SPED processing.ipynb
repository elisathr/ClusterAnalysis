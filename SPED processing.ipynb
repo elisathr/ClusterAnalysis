{
 "cells": [
  {
   "cell_type": "markdown",
   "metadata": {},
   "source": [
    "# Analysis of 4D-STEM data of clusters in Al alloys"
   ]
  },
  {
   "cell_type": "markdown",
   "metadata": {},
   "source": [
    "This notebook handles 4D-STEM data and was originally written to investigate scanning precession electron diffraction (SPED) data from an Al-Zn-Mg alloy containing clusters. The clusters are 1-2 nm spherical particles completely embedded in the Al host material. They have their own crystal structure and the notebook aims at extracting PED patterns for single clusters. Various methods as calibrating the data, creating masks in real- and reciprocal space, creating a simplified dataset where each pixel containing a cluster is the average of all the PED patterns in that particular pattern and decomposition of the dataset are available. The code runs on pyxem v. 13.2.2. \n",
    "\n",
    "The notebook was originally written by dr. Emil Christiansen (emichr) but was rewritten by Elisabeth Thronsen to fit the purpose of analysing SPED data from clusters in Al alloys.\n",
    "\n",
    "The notebook contains the following sections:\n",
    "\n",
    "    [1] Loading of data and calibration\n",
    "    [2] Create Virtual BF/DF\n",
    "    [3] Create masks\n",
    "    [4] Create simplified dataset\n",
    "    [5] Decomposition\n"
   ]
  },
  {
   "cell_type": "code",
   "execution_count": 1,
   "metadata": {},
   "outputs": [
    {
     "name": "stderr",
     "output_type": "stream",
     "text": [
      "WARNING:hyperspy.api:The ipywidgets GUI elements are not available, probably because the hyperspy_gui_ipywidgets package is not installed.\n",
      "WARNING:hyperspy.api:The traitsui GUI elements are not available, probably because the hyperspy_gui_traitsui package is not installed.\n",
      "WARNING:silx.opencl.common:Unable to import pyOpenCl. Please install it from: https://pypi.org/project/pyopencl\n"
     ]
    }
   ],
   "source": [
    "import matplotlib.pyplot as plt\n",
    "%matplotlib qt\n",
    "plt.ion()\n",
    "import numpy as np\n",
    "from scipy import sqrt\n",
    "import hyperspy.api as hs\n",
    "import pyxem as px\n",
    "from skimage.feature import blob_log\n",
    "import os\n",
    "\n",
    "directory = r'E:\\PhD\\MERLIN\\ZM42\\Na4d_AA8min\\2021_01_22_s10a\\20210122 105644'.replace('\\\\', '\\\\\\\\') # Directory where you have the data\n",
    "os.chdir(r'C:\\Users\\elisathr\\OneDrive - NTNU\\PhD\\ALLDESIGN\\Studying_clustering_electron_diffraction'.replace('\\\\', '\\\\\\\\')) # Directory with ClusterAnalysis\n",
    "import ClusterAnalysis as ca \n",
    "os.chdir(directory) # Change back to directory where you have the files.\n",
    "\n",
    "from ClusterAnalysis import VDF_mask_methods as vdfm\n",
    "from skimage import (\n",
    "    color, feature, filters, io, measure, morphology, segmentation, util\n",
    ")"
   ]
  },
  {
   "cell_type": "markdown",
   "metadata": {},
   "source": [
    "## Load data\n",
    "Load data first as a .mib-file before converting it to a .hspy file."
   ]
  },
  {
   "cell_type": "code",
   "execution_count": 2,
   "metadata": {},
   "outputs": [],
   "source": [
    "# Define the material:\n",
    "\n",
    "material = 'Al'\n",
    "a = 4.05\n",
    "b = a\n",
    "c = a\n",
    "alpha = 90.\n",
    "beta=alpha\n",
    "gamma=alpha"
   ]
  },
  {
   "cell_type": "code",
   "execution_count": 3,
   "metadata": {},
   "outputs": [],
   "source": [
    "d_max = (2, 2, 0) #maximum reflection to include when cropping reciprocal space"
   ]
  },
  {
   "cell_type": "code",
   "execution_count": 4,
   "metadata": {},
   "outputs": [],
   "source": [
    "# Define the file name of the data that you want to open\n",
    "file_name = '/Scan2_SPED0.3_exp30ms_spot0.5_step0.3_alpha4_100x100.hspy'"
   ]
  },
  {
   "cell_type": "code",
   "execution_count": 5,
   "metadata": {},
   "outputs": [
    {
     "name": "stdout",
     "output_type": "stream",
     "text": [
      "Sucesfully loaded dataset.\n"
     ]
    }
   ],
   "source": [
    "'''\n",
    "Load data. This routine will open data based on the file extension. Accepted files are .mib, .hspy and .hdf5. If loading a .mib-file, the scan size and detector size need to be inputted with the nx, ny\n",
    "and dx, dy parameters. Upon loading a .mib-file, the routine will save the dataset as a .hspy-file.\n",
    "'''\n",
    "\n",
    "load_masks = False # Set to True if importing binary masks from file\n",
    "if '.mib' in file_name:\n",
    "    signal = px.load_mib(directory + '/' + file_name)\n",
    "    nx, ny = 100, 100\n",
    "    dx, dy = 256, 256 #Detector pixels\n",
    "    data_array = signal.data.reshape((nx, ny, dx, dy)) #Assume data size!\n",
    "    data_array = data_array.rechunk((32, 32, 32, 32)) #Rechunk data\n",
    "    signal = px.signals.LazyElectronDiffraction2D(data_array)\n",
    "    try:\n",
    "        with open((directory + '/' + file_name).replace('.mib', '.hdr'), 'r') as hdr:\n",
    "            header = ''.join(hdr.readlines())\n",
    "            print(header)\n",
    "            signal.original_metadata['Header'] = header\n",
    "    except:\n",
    "        print('Header from .mib file not read and imported to metadata')\n",
    "    signal.save(directory + '/' + file_name.replace(\".mib\", \".hspy\"), chunks=(32, 32, 32, 32), overwrite=True)\n",
    "    signal = hs.load(directory + '/' + file_name.replace(\".mib\", \".hspy\"))\n",
    "    signal = px.signals.ElectronDiffraction2D(signal)\n",
    "else:\n",
    "    try:\n",
    "        signal = hs.load(directory + '\\\\\\\\' + file_name)\n",
    "        print('Sucesfully loaded dataset.')\n",
    "    except:\n",
    "        print('Could not load the data with hs.load')\n",
    "    if load_masks:\n",
    "        try:\n",
    "            vdf = hs.load(directory + '/' + file_name.replace('.hspy', '_vdf.hdf5'))\n",
    "            print('Sucesfully loaded vdf.')\n",
    "        except:\n",
    "            print('Could not load vdf')\n",
    "        try:\n",
    "            vdf_mask = hs.load(directory + '/' + file_name.replace('.hspy', '_vdf_mask.hdf5'))\n",
    "            print('Sucesfully loaded vdf mask.')\n",
    "        except:\n",
    "            print('Could not load vdf mask')\n",
    "        try:\n",
    "            diff_mask = hs.load(directory + '/' + file_name.replace('.hspy', '_diff_mask.hdf5'))\n",
    "            print('Sucesfully loaded diff mask.')\n",
    "        except:\n",
    "            print('Could not load diff mask')"
   ]
  },
  {
   "cell_type": "markdown",
   "metadata": {},
   "source": [
    "### Prepare data dimensions and calibrate"
   ]
  },
  {
   "cell_type": "markdown",
   "metadata": {},
   "source": [
    "#### Calibrate the data in reciprocal space"
   ]
  },
  {
   "cell_type": "markdown",
   "metadata": {},
   "source": [
    "Here we use the Line2DROI object from hyperspy to get a profile plot over diffraction reflections we know the distance between."
   ]
  },
  {
   "cell_type": "code",
   "execution_count": 7,
   "metadata": {},
   "outputs": [],
   "source": [
    "signal.plot()"
   ]
  },
  {
   "cell_type": "code",
   "execution_count": 6,
   "metadata": {},
   "outputs": [],
   "source": [
    "# Plot the data and find the center of the central beam\n",
    "\n",
    "plt.close('all')\n",
    "signal.plot()"
   ]
  },
  {
   "cell_type": "code",
   "execution_count": 10,
   "metadata": {},
   "outputs": [],
   "source": [
    "center = (128, 128)\n",
    "#center = None"
   ]
  },
  {
   "cell_type": "code",
   "execution_count": 9,
   "metadata": {},
   "outputs": [],
   "source": [
    "# Use the DPs to set the scale in recirpocal space\n",
    "try:\n",
    "    DP_scale = signal.metadata.Signal.calibration.diffraction\n",
    "    calibration_done = True\n",
    "except AttributeError:\n",
    "    calibration_done = False\n",
    "    plt.close(\"all\")\n",
    "    signal.plot()\n",
    "    lin = hs.roi.Line2DROI(x1=20, y1=20, x2=40, y2=40, linewidth=5)\n",
    "    lin.add_widget(signal, axes=signal.axes_manager.signal_axes)"
   ]
  },
  {
   "cell_type": "code",
   "execution_count": 10,
   "metadata": {},
   "outputs": [],
   "source": [
    "if not calibration_done:\n",
    "    trace = lin(signal, axes=signal.axes_manager.signal_axes)\n",
    "    trace.sum((0,1)).plot()"
   ]
  },
  {
   "cell_type": "code",
   "execution_count": 11,
   "metadata": {},
   "outputs": [
    {
     "name": "stdout",
     "output_type": "stream",
     "text": [
      "Theoretical d-spacing of Al (4 0 0): 0.988 1/Å\n",
      "Distance between Al (2 0 0) and (-2 0 0) in DP: 129 px\n",
      "Diffraction pattern calibration: 0.008 1/Å / px\n"
     ]
    }
   ],
   "source": [
    "x_1 = 15 #Pos of spot -200\n",
    "x_2 = 144 # Pos of spot 200\n",
    "hkl1=np.array([2,0,0])\n",
    "hkl2=np.array([-2,0,0])\n",
    "hkl=hkl1-hkl2\n",
    "precision = 3 #Number of decimals for calibration\n",
    "d_px = np.abs(x_1-x_2) #px\n",
    "if c is a and b is a:\n",
    "    if beta is alpha and gamma is alpha:\n",
    "        d_nm = np.sqrt((hkl[0]**2 + hkl[1]**2 + hkl[2]**2)/a**2) #1/Å\n",
    "DP_scale = round(d_nm/d_px, precision) #1/Å / px\n",
    "#DP_scale = 1\n",
    "if center is not None:\n",
    "    signal.set_diffraction_calibration(DP_scale, center=(center[0]*DP_scale, center[1]*DP_scale))\n",
    "else:\n",
    "    signal.set_diffraction_calibration(DP_scale)\n",
    "print('Theoretical d-spacing of {material} ({h:.0f} {k:.0f} {l:.0f}): {d_nm} 1/Å\\nDistance between {material} ({h1:.0f} {k1:.0f} {l1:.0f}) and ({h2:.0f} {k2:.0f} {l2:.0f}) in DP: {d_px} px\\nDiffraction pattern calibration: {scale} 1/Å / px'.format(material = material, h=hkl[0], k=hkl[1], l=hkl[2], d_nm=round(d_nm, precision), h1=hkl1[0], k1=hkl1[1], l1=hkl1[2], h2=hkl2[0], k2=hkl2[1], l2=hkl2[2], d_px=round(d_px, precision), scale = round(DP_scale, precision)))\n",
    "signal.metadata.add_dictionary({'Signal':{'calibration':{'diffraction':DP_scale}}})\n",
    "calibration_done = True"
   ]
  },
  {
   "cell_type": "code",
   "execution_count": 12,
   "metadata": {},
   "outputs": [
    {
     "data": {
      "text/html": [
       "<style>\n",
       "table, th, td {\n",
       "\tborder: 1px solid black;\n",
       "\tborder-collapse: collapse;\n",
       "}\n",
       "th, td {\n",
       "\tpadding: 5px;\n",
       "}\n",
       "</style>\n",
       "<p><b>< Axes manager, axes: (100, 100|256, 256) ></b></p>\n",
       "<table style='width:100%'>\n",
       "\n",
       "<tr> \n",
       "<th>Navigation axis name</th> \n",
       "<th>size</th> \n",
       "<th>index</th> \n",
       "<th>offset</th> \n",
       "<th>scale</th> \n",
       "<th>units</th> </tr>\n",
       "<tr> \n",
       "<td><undefined></td> \n",
       "<td>100</td> \n",
       "<td>25</td> \n",
       "<td>0.0</td> \n",
       "<td>1.0</td> \n",
       "<td><undefined></td> </tr>\n",
       "<tr> \n",
       "<td><undefined></td> \n",
       "<td>100</td> \n",
       "<td>38</td> \n",
       "<td>0.0</td> \n",
       "<td>1.0</td> \n",
       "<td><undefined></td> </tr></table>\n",
       "<table style='width:100%'>\n",
       "\n",
       "<tr> \n",
       "<th>Signal axis name</th> \n",
       "<th>size</th> \n",
       "<th>offset</th> \n",
       "<th>scale</th> \n",
       "<th>units</th> </tr>\n",
       "<tr> \n",
       "<td>kx</td> \n",
       "<td>256</td> \n",
       "<td>-1.024</td> \n",
       "<td>0.008</td> \n",
       "<td>$A^{-1}$</td> </tr>\n",
       "<tr> \n",
       "<td>ky</td> \n",
       "<td>256</td> \n",
       "<td>-1.024</td> \n",
       "<td>0.008</td> \n",
       "<td>$A^{-1}$</td> </tr></table>\n"
      ],
      "text/plain": [
       "<Axes manager, axes: (100, 100|256, 256)>\n",
       "            Name |   size |  index |  offset |   scale |  units \n",
       "================ | ====== | ====== | ======= | ======= | ====== \n",
       "     <undefined> |    100 |     25 |       0 |       1 | <undefined> \n",
       "     <undefined> |    100 |     38 |       0 |       1 | <undefined> \n",
       "---------------- | ------ | ------ | ------- | ------- | ------ \n",
       "              kx |    256 |        |      -1 |   0.008 | $A^{-1}$ \n",
       "              ky |    256 |        |      -1 |   0.008 | $A^{-1}$ "
      ]
     },
     "execution_count": 12,
     "metadata": {},
     "output_type": "execute_result"
    }
   ],
   "source": [
    "# Check that the axes make sense:\n",
    "plt.close('all')\n",
    "signal.axes_manager"
   ]
  },
  {
   "cell_type": "markdown",
   "metadata": {},
   "source": [
    "#### Calibrate in real space and set the units and axes in both reciprocal- and real space"
   ]
  },
  {
   "cell_type": "code",
   "execution_count": 13,
   "metadata": {},
   "outputs": [
    {
     "data": {
      "text/html": [
       "<style>\n",
       "table, th, td {\n",
       "\tborder: 1px solid black;\n",
       "\tborder-collapse: collapse;\n",
       "}\n",
       "th, td {\n",
       "\tpadding: 5px;\n",
       "}\n",
       "</style>\n",
       "<p><b>< Axes manager, axes: (100, 100|256, 256) ></b></p>\n",
       "<table style='width:100%'>\n",
       "\n",
       "<tr> \n",
       "<th>Navigation axis name</th> \n",
       "<th>size</th> \n",
       "<th>index</th> \n",
       "<th>offset</th> \n",
       "<th>scale</th> \n",
       "<th>units</th> </tr>\n",
       "<tr> \n",
       "<td>x</td> \n",
       "<td>100</td> \n",
       "<td>25</td> \n",
       "<td>0.0</td> \n",
       "<td>0.462</td> \n",
       "<td>nm</td> </tr>\n",
       "<tr> \n",
       "<td>y</td> \n",
       "<td>100</td> \n",
       "<td>38</td> \n",
       "<td>0.0</td> \n",
       "<td>0.462</td> \n",
       "<td>nm</td> </tr></table>\n",
       "<table style='width:100%'>\n",
       "\n",
       "<tr> \n",
       "<th>Signal axis name</th> \n",
       "<th>size</th> \n",
       "<th>offset</th> \n",
       "<th>scale</th> \n",
       "<th>units</th> </tr>\n",
       "<tr> \n",
       "<td>dx</td> \n",
       "<td>256</td> \n",
       "<td>-1.024</td> \n",
       "<td>0.008</td> \n",
       "<td>Å^-1</td> </tr>\n",
       "<tr> \n",
       "<td>dy</td> \n",
       "<td>256</td> \n",
       "<td>-1.024</td> \n",
       "<td>0.008</td> \n",
       "<td>Å^-1</td> </tr></table>\n"
      ],
      "text/plain": [
       "<Axes manager, axes: (100, 100|256, 256)>\n",
       "            Name |   size |  index |  offset |   scale |  units \n",
       "================ | ====== | ====== | ======= | ======= | ====== \n",
       "               x |    100 |     25 |       0 |    0.46 |     nm \n",
       "               y |    100 |     38 |       0 |    0.46 |     nm \n",
       "---------------- | ------ | ------ | ------- | ------- | ------ \n",
       "              dx |    256 |        |      -1 |   0.008 |   Å^-1 \n",
       "              dy |    256 |        |      -1 |   0.008 |   Å^-1 "
      ]
     },
     "execution_count": 13,
     "metadata": {},
     "output_type": "execute_result"
    }
   ],
   "source": [
    "signal.axes_manager[0].offset = 0 # x-axis\n",
    "signal.axes_manager[1].offset = 0 # y-axis\n",
    "SX, SY = .462, .462 # The scan step size\n",
    "  \n",
    "signal.axes_manager[0].scale = SX#\n",
    "signal.axes_manager[1].scale = SY#\n",
    "signal.metadata.add_dictionary({'Signal':{'calibration':{'position':signal.axes_manager[0].scale}}})\n",
    "\n",
    "signal.axes_manager[0].units = 'nm' \n",
    "signal.axes_manager[1].units = 'nm' \n",
    "\n",
    "signal.axes_manager[2].units = 'Å^-1'\n",
    "signal.axes_manager[3].units = 'Å^-1'\n",
    "\n",
    "signal.axes_manager[0].name = 'x'\n",
    "signal.axes_manager[1].name = 'y'\n",
    "signal.axes_manager[2].name = 'dx'\n",
    "signal.axes_manager[3].name = 'dy'\n",
    "\n",
    "signal.axes_manager"
   ]
  },
  {
   "cell_type": "markdown",
   "metadata": {},
   "source": [
    "## Create Virtual BF/DF"
   ]
  },
  {
   "cell_type": "markdown",
   "metadata": {},
   "source": [
    "Create a virtual BD/DF image by using the interactive ROI in hyperspy. The resultant virtual image should contain all features of interest and will be binarized at a later stage when the real space mask is created."
   ]
  },
  {
   "cell_type": "code",
   "execution_count": 11,
   "metadata": {},
   "outputs": [],
   "source": [
    "try:\n",
    "    DP_scale\n",
    "except:\n",
    "    DP_scale = signal.axes_manager[2].scale\n",
    "roi = hs.roi.CircleROI(cx=center[0]*DP_scale/256,cy=center[1]*DP_scale/256, r_inner=0*DP_scale, r=30*DP_scale)\n",
    "plt.close('all')\n",
    "signal.plot_integrated_intensity(roi=roi)"
   ]
  },
  {
   "cell_type": "code",
   "execution_count": 15,
   "metadata": {},
   "outputs": [],
   "source": [
    "# Save the virtual image created with the interactive aperture:\n",
    "vdf = signal.get_integrated_intensity(roi)"
   ]
  },
  {
   "cell_type": "code",
   "execution_count": 12,
   "metadata": {},
   "outputs": [
    {
     "data": {
      "text/html": [
       "<ul style=\"margin: 0px; list-style-position: outside;\">\n",
       "                    <details open>\n",
       "                    <summary style=\"display: list-item;\">\n",
       "                    <li style=\"display: inline;\">\n",
       "                    General\n",
       "                    </li></summary>\n",
       "                    \n",
       "    <ul style=\"margin: 0px; list-style-position: outside;\">\n",
       "    <li style='margin-left:1em; padding-left: 0.5em'>direct_detector = False</li></ul>\n",
       "    \n",
       "    <ul style=\"margin: 0px; list-style-position: outside;\">\n",
       "    <li style='margin-left:1em; padding-left: 0.5em'>title = 7M42_NA4days_AA8min_SPED_scan2</li></ul>\n",
       "    </details></ul><ul style=\"margin: 0px; list-style-position: outside;\">\n",
       "                    <details open>\n",
       "                    <summary style=\"display: list-item;\">\n",
       "                    <li style=\"display: inline;\">\n",
       "                    Masks\n",
       "                    </li></summary>\n",
       "                    <ul style=\"margin: 0px; list-style-position: outside;\">\n",
       "                    <details closed>\n",
       "                    <summary style=\"display: list-item;\">\n",
       "                    <li style=\"display: inline;\">\n",
       "                    DP\n",
       "                    </li></summary>\n",
       "                    \n",
       "    <ul style=\"margin: 0px; list-style-position: outside;\">\n",
       "    <li style='margin-left:1em; padding-left: 0.5em'>inverted = &lt;Signal2D, title: Al Mask (inverted), dimensions: (|256, 256)&gt;</li></ul>\n",
       "    \n",
       "    <ul style=\"margin: 0px; list-style-position: outside;\">\n",
       "    <li style='margin-left:1em; padding-left: 0.5em'>normal = &lt;Signal2D, title: Al Mask, dimensions: (|256, 256)&gt;</li></ul>\n",
       "    </details></ul><ul style=\"margin: 0px; list-style-position: outside;\">\n",
       "                    <details closed>\n",
       "                    <summary style=\"display: list-item;\">\n",
       "                    <li style=\"display: inline;\">\n",
       "                    Parameters\n",
       "                    </li></summary>\n",
       "                    <ul style=\"margin: 0px; list-style-position: outside;\">\n",
       "                    <details closed>\n",
       "                    <summary style=\"display: list-item;\">\n",
       "                    <li style=\"display: inline;\">\n",
       "                    Diffraction\n",
       "                    </li></summary>\n",
       "                    <ul style=\"margin: 0px; list-style-position: outside;\">\n",
       "                    <details closed>\n",
       "                    <summary style=\"display: list-item;\">\n",
       "                    <li style=\"display: inline;\">\n",
       "                    blob\n",
       "                    </li></summary>\n",
       "                    \n",
       "    <ul style=\"margin: 0px; list-style-position: outside;\">\n",
       "    <li style='margin-left:1em; padding-left: 0.5em'>max_sigma = 40</li></ul>\n",
       "    \n",
       "    <ul style=\"margin: 0px; list-style-position: outside;\">\n",
       "    <li style='margin-left:1em; padding-left: 0.5em'>min_sigma = 11</li></ul>\n",
       "    \n",
       "    <ul style=\"margin: 0px; list-style-position: outside;\">\n",
       "    <li style='margin-left:1em; padding-left: 0.5em'>num_sigma = 1</li></ul>\n",
       "    \n",
       "    <ul style=\"margin: 0px; list-style-position: outside;\">\n",
       "    <li style='margin-left:1em; padding-left: 0.5em'>overlap = 0</li></ul>\n",
       "    \n",
       "    <ul style=\"margin: 0px; list-style-position: outside;\">\n",
       "    <li style='margin-left:1em; padding-left: 0.5em'>threshold = 0.03</li></ul>\n",
       "    </details></ul><ul style=\"margin: 0px; list-style-position: outside;\">\n",
       "                    <details closed>\n",
       "                    <summary style=\"display: list-item;\">\n",
       "                    <li style=\"display: inline;\">\n",
       "                    r\n",
       "                    </li></summary>\n",
       "                    \n",
       "    <ul style=\"margin: 0px; list-style-position: outside;\">\n",
       "    <li style='margin-left:1em; padding-left: 0.5em'>maximum = 6</li></ul>\n",
       "    \n",
       "    <ul style=\"margin: 0px; list-style-position: outside;\">\n",
       "    <li style='margin-left:1em; padding-left: 0.5em'>minimum = 4</li></ul>\n",
       "    </details></ul>\n",
       "    <ul style=\"margin: 0px; list-style-position: outside;\">\n",
       "    <li style='margin-left:1em; padding-left: 0.5em'>x = 0</li></ul>\n",
       "    \n",
       "    <ul style=\"margin: 0px; list-style-position: outside;\">\n",
       "    <li style='margin-left:1em; padding-left: 0.5em'>y = 0</li></ul>\n",
       "    </details></ul><ul style=\"margin: 0px; list-style-position: outside;\">\n",
       "                    <details closed>\n",
       "                    <summary style=\"display: list-item;\">\n",
       "                    <li style=\"display: inline;\">\n",
       "                    VDF\n",
       "                    </li></summary>\n",
       "                    \n",
       "    <ul style=\"margin: 0px; list-style-position: outside;\">\n",
       "    <li style='margin-left:1em; padding-left: 0.5em'>Type = Binary_vdf_mask</li></ul>\n",
       "    </details></ul></details></ul><ul style=\"margin: 0px; list-style-position: outside;\">\n",
       "                    <details closed>\n",
       "                    <summary style=\"display: list-item;\">\n",
       "                    <li style=\"display: inline;\">\n",
       "                    VDF\n",
       "                    </li></summary>\n",
       "                    \n",
       "    <ul style=\"margin: 0px; list-style-position: outside;\">\n",
       "    <li style='margin-left:1em; padding-left: 0.5em'>inverted = &lt;Signal2D, title: , dimensions: (|100, 100)&gt;</li></ul>\n",
       "    \n",
       "    <ul style=\"margin: 0px; list-style-position: outside;\">\n",
       "    <li style='margin-left:1em; padding-left: 0.5em'>normal = &lt;Signal2D, title: VDF mask, dimensions: (|100, 100)&gt;</li></ul>\n",
       "    </details></ul></details></ul><ul style=\"margin: 0px; list-style-position: outside;\">\n",
       "                    <details open>\n",
       "                    <summary style=\"display: list-item;\">\n",
       "                    <li style=\"display: inline;\">\n",
       "                    Sample\n",
       "                    </li></summary>\n",
       "                    \n",
       "    <ul style=\"margin: 0px; list-style-position: outside;\">\n",
       "    <li style='margin-left:1em; padding-left: 0.5em'>alloy = 7M42</li></ul>\n",
       "    \n",
       "    <ul style=\"margin: 0px; list-style-position: outside;\">\n",
       "    <li style='margin-left:1em; padding-left: 0.5em'>deformation = SPED</li></ul>\n",
       "    \n",
       "    <ul style=\"margin: 0px; list-style-position: outside;\">\n",
       "    <li style='margin-left:1em; padding-left: 0.5em'>temper = NA4days_AA8min</li></ul>\n",
       "    </details></ul><ul style=\"margin: 0px; list-style-position: outside;\">\n",
       "                    <details open>\n",
       "                    <summary style=\"display: list-item;\">\n",
       "                    <li style=\"display: inline;\">\n",
       "                    Signal\n",
       "                    </li></summary>\n",
       "                    \n",
       "    <ul style=\"margin: 0px; list-style-position: outside;\">\n",
       "    <li style='margin-left:1em; padding-left: 0.5em'>binned = False</li></ul>\n",
       "    <ul style=\"margin: 0px; list-style-position: outside;\">\n",
       "                    <details closed>\n",
       "                    <summary style=\"display: list-item;\">\n",
       "                    <li style=\"display: inline;\">\n",
       "                    calibration\n",
       "                    </li></summary>\n",
       "                    \n",
       "    <ul style=\"margin: 0px; list-style-position: outside;\">\n",
       "    <li style='margin-left:1em; padding-left: 0.5em'>diffraction = 0.008</li></ul>\n",
       "    \n",
       "    <ul style=\"margin: 0px; list-style-position: outside;\">\n",
       "    <li style='margin-left:1em; padding-left: 0.5em'>position = 0.3</li></ul>\n",
       "    </details></ul>\n",
       "    <ul style=\"margin: 0px; list-style-position: outside;\">\n",
       "    <li style='margin-left:1em; padding-left: 0.5em'>signal_type = electron_diffraction</li></ul>\n",
       "    </details></ul><ul style=\"margin: 0px; list-style-position: outside;\">\n",
       "                    <details open>\n",
       "                    <summary style=\"display: list-item;\">\n",
       "                    <li style=\"display: inline;\">\n",
       "                    VDF_interactive\n",
       "                    </li></summary>\n",
       "                    \n",
       "    <ul style=\"margin: 0px; list-style-position: outside;\">\n",
       "    <li style='margin-left:1em; padding-left: 0.5em'>data = &lt;Signal2D, title: VDF, dimensions: (|100, 100)&gt;</li></ul>\n",
       "    \n",
       "    <ul style=\"margin: 0px; list-style-position: outside;\">\n",
       "    <li style='margin-left:1em; padding-left: 0.5em'>title = VDF</li></ul>\n",
       "    </details></ul>"
      ],
      "text/plain": [
       "├── General\n",
       "│   ├── direct_detector = False\n",
       "│   └── title = 7M42_NA4days_AA8min_SPED_scan2\n",
       "├── Masks\n",
       "│   ├── DP\n",
       "│   │   ├── inverted = <Signal2D, title: Al Mask (inverted), dimensions: (|256, 256)>\n",
       "│   │   └── normal = <Signal2D, title: Al Mask, dimensions: (|256, 256)>\n",
       "│   ├── Parameters\n",
       "│   │   ├── Diffraction\n",
       "│   │   │   ├── blob\n",
       "│   │   │   │   ├── max_sigma = 40\n",
       "│   │   │   │   ├── min_sigma = 11\n",
       "│   │   │   │   ├── num_sigma = 1\n",
       "│   │   │   │   ├── overlap = 0\n",
       "│   │   │   │   └── threshold = 0.03\n",
       "│   │   │   ├── r\n",
       "│   │   │   │   ├── maximum = 6\n",
       "│   │   │   │   └── minimum = 4\n",
       "│   │   │   ├── x = 0\n",
       "│   │   │   └── y = 0\n",
       "│   │   └── VDF\n",
       "│   │       └── Type = Binary_vdf_mask\n",
       "│   └── VDF\n",
       "│       ├── inverted = <Signal2D, title: , dimensions: (|100, 100)>\n",
       "│       └── normal = <Signal2D, title: VDF mask, dimensions: (|100, 100)>\n",
       "├── Sample\n",
       "│   ├── alloy = 7M42\n",
       "│   ├── deformation = SPED\n",
       "│   └── temper = NA4days_AA8min\n",
       "├── Signal\n",
       "│   ├── binned = False\n",
       "│   ├── calibration\n",
       "│   │   ├── diffraction = 0.008\n",
       "│   │   └── position = 0.3\n",
       "│   └── signal_type = electron_diffraction\n",
       "└── VDF_interactive\n",
       "    ├── data = <Signal2D, title: VDF, dimensions: (|100, 100)>\n",
       "    └── title = VDF"
      ]
     },
     "execution_count": 12,
     "metadata": {},
     "output_type": "execute_result"
    }
   ],
   "source": [
    "signal.metadata"
   ]
  },
  {
   "cell_type": "markdown",
   "metadata": {},
   "source": [
    "## Create Masks"
   ]
  },
  {
   "cell_type": "markdown",
   "metadata": {},
   "source": [
    "### Reciprocal mask"
   ]
  },
  {
   "cell_type": "code",
   "execution_count": 6,
   "metadata": {},
   "outputs": [
    {
     "name": "stdout",
     "output_type": "stream",
     "text": [
      "Loaded blob-finding parameters from signal metadata\n"
     ]
    }
   ],
   "source": [
    "'''\n",
    "Since we are not interested in the Al in this case, we create a mask in reciprocal space masking out the Al reflections. The mask can be prepared from the average DP from the full data stack if the \n",
    "cluster reflections are not too prominent. If however the cluster spots are prominent in the average DP, use a single DP where no clusters are present defined by the isig_x and isig_y parameters. \n",
    "The blob parameters for the blob detection algorithm are afound here: https://scikit-image.org/docs/dev/auto_examples/features_detection/plot_blob.html.\n",
    "First we check if blobs are detected in the metadata, if it is not, we have to create the mask from scratch.\n",
    "'''\n",
    "\n",
    "try:\n",
    "    isig_x = signal.metadata.Masks.Parameters.Diffraction.x\n",
    "    isig_y = signal.metadata.Masks.Parameters.Diffraction.y\n",
    "    blob_params = signal.metadata.Masks.Parameters.Diffraction.blob\n",
    "    minimum_r = signal.metadata.Masks.Parameters.Diffraction.r.minimum\n",
    "    maximum_r = signal.metadata.Masks.Parameters.Diffraction.r.maximum\n",
    "    print('Loaded blob-finding parameters from signal metadata')\n",
    "    new_blobs = False\n",
    "except AttributeError:\n",
    "    print('No blob-finding metadata was found. Plot signal and find a pure Al pattern.')\n",
    "    signal.plot()\n",
    "    new_blobs = True"
   ]
  },
  {
   "cell_type": "markdown",
   "metadata": {},
   "source": [
    "If no blob-parameters are found, enter parameters manually (isig_x and isig_y are coordinates in signal space where you have pure Al). Change the blob_params to mask out only the Al reflections in the code under."
   ]
  },
  {
   "cell_type": "code",
   "execution_count": 18,
   "metadata": {},
   "outputs": [],
   "source": [
    "new_blobs = True\n",
    "plt.close('all')\n",
    "if new_blobs:\n",
    "    isig_x = 24\n",
    "    isig_y = 25\n",
    "    blob_params = blob_params = {'min_sigma': 0.001, 'max_sigma':40, 'num_sigma': 1, 'overlap': 0, 'threshold': 0.03}"
   ]
  },
  {
   "cell_type": "markdown",
   "metadata": {},
   "source": [
    "Search for blobs in pattern"
   ]
  },
  {
   "cell_type": "code",
   "execution_count": 128,
   "metadata": {},
   "outputs": [],
   "source": [
    "signal.inav[isig_x, isig_y].plot()"
   ]
  },
  {
   "cell_type": "code",
   "execution_count": 14,
   "metadata": {},
   "outputs": [
    {
     "name": "stdout",
     "output_type": "stream",
     "text": [
      "Now x = 124, y = 192, r = 15.556 (no: 0)\n",
      "Now x = 65, y = 122, r = 15.556 (no: 1)\n",
      "Now x = 135, y = 63, r = 15.556 (no: 2)\n",
      "Now x = 194, y = 132, r = 15.556 (no: 3)\n",
      "Now x = 130, y = 127, r = 15.556 (no: 4)\n",
      "Now x = 60, y = 187, r = 15.556 (no: 5)\n",
      "Now x = 189, y = 197, r = 15.556 (no: 6)\n",
      "Now x = 70, y = 58, r = 15.556 (no: 7)\n",
      "Now x = 200, y = 67, r = 15.556 (no: 8)\n",
      "Now x = 0, y = 117, r = 15.556 (no: 9)\n",
      "Now x = 54, y = 255, r = 15.556 (no: 10)\n",
      "Now x = 0, y = 52, r = 15.556 (no: 11)\n",
      "Now x = 255, y = 203, r = 15.556 (no: 12)\n",
      "Now x = 206, y = 0, r = 15.556 (no: 13)\n",
      "Now x = 119, y = 255, r = 15.556 (no: 14)\n",
      "Now x = 141, y = 0, r = 15.556 (no: 15)\n",
      "Now x = 255, y = 138, r = 15.556 (no: 16)\n",
      "Now x = 0, y = 183, r = 15.556 (no: 17)\n",
      "Now x = 74, y = 0, r = 15.556 (no: 18)\n",
      "Now x = 188, y = 255, r = 15.556 (no: 19)\n"
     ]
    }
   ],
   "source": [
    "plt.close('all')\n",
    "from numpy.lib.scimath import sqrt\n",
    "from skimage import exposure\n",
    "\n",
    "# First we define which DP to use for creating the binary mask, either the mean DP or one single DP defined by isig_x and isig_y. Uncomment the one you don't want to use under and adjust gamma accordingly\n",
    "\n",
    "#diffraction_pattern = signal.inav[isig_x,isig_y]\n",
    "diffraction_pattern = signal.mean((0,1)) + 1 # To avoid issues with dead pixels\n",
    "diffraction_pattern = exposure.adjust_gamma(diffraction_pattern.data, 0.2)\n",
    "\n",
    "mask_xsize = signal.axes_manager.shape[2]\n",
    "mask_ysize = signal.axes_manager.shape[3]\n",
    "\n",
    "#Find Blobs\n",
    "blobs = blob_log(diffraction_pattern, min_sigma=blob_params['min_sigma'], max_sigma=blob_params['max_sigma'], num_sigma = blob_params['num_sigma'], overlap = blob_params['overlap'], threshold = blob_params['threshold'])#, threshold=200.0)\n",
    "blobs[:, 2] = blobs[:, 2] * sqrt(2) #scale blob size to \"look\" like a radii.\n",
    "\n",
    "#Make figure to show blobs and mask side-by-side\n",
    "fig, [orig_ax, mask_ax] = plt.subplots(1, 2)\n",
    "\n",
    "#Show original image in one axis\n",
    "orig_ax.imshow(diffraction_pattern, interpolation='nearest')\n",
    "\n",
    "#Initialize mask array as an array with False everywhere\n",
    "mask_array = np.zeros((mask_ysize, mask_xsize), dtype = bool)\n",
    "\n",
    "#Loop over all blobs found by the Laplacian of Gaussian algorithm above, and mask out each blob. Blobs with very small or large radii will be given \"minimum_r\" or \"maximum_r\" as radii instead.\n",
    "for k, blob in enumerate(blobs):\n",
    "    y, x, r = blob #x, y, and radii of current blob\n",
    "    print('Now x = {:.0f}, y = {:.0f}, r = {:.3f} (no: {})'.format(x, y, r, k))\n",
    "    r += 8 #Possibly add to radii to increase size slightly\n",
    "\n",
    "    # The mask can be shifted for specific relfections\n",
    "    if k == 4:\n",
    "        x += 0\n",
    "        y += 0\n",
    "        r += 5     \n",
    "              \n",
    "    #Make a plt.circle object to show the position of the mask in the original diffraction pattern and add it as a patch\n",
    "    c = plt.Circle((x, y), r, color='red', linewidth=1, fill=False) \n",
    "    orig_ax.add_patch(c)\n",
    "    \n",
    "    #Create a mask using np.ogrid\n",
    "    mask_x, mask_y = np.ogrid[-y:mask_ysize-y, -x:mask_xsize-x]\n",
    "    mask_spot = mask_x**2 + mask_y**2 <= r**2\n",
    "    mask_array[mask_spot] = True\n",
    "\n",
    "orig_ax.set_axis_off()\n",
    "mask_ax.set_axis_off()\n",
    "\n",
    "#Show the mask next to the original diffraction pattern\n",
    "mask_ax.imshow(mask_array)\n",
    "plt.tight_layout()\n",
    "plt.show()\n",
    "\n",
    "#Mask out Al-reflections in the dataset:\n",
    "\n",
    "Al_mask = hs.signals.Signal2D(mask_array)\n",
    "Al_mask.metadata.General.title = 'Al Mask'\n",
    "Al_mask_inverted = ~ Al_mask\n",
    "\n",
    "Al_mask_inverted.metadata.General.title = 'Al Mask (inverted)'\n",
    "\n"
   ]
  },
  {
   "cell_type": "code",
   "execution_count": 16,
   "metadata": {},
   "outputs": [
    {
     "data": {
      "text/plain": [
       "<matplotlib.image.AxesImage at 0x22d0d911070>"
      ]
     },
     "execution_count": 16,
     "metadata": {},
     "output_type": "execute_result"
    }
   ],
   "source": [
    "# A circular mask can also be superimposed:\n",
    "cutoff = 0.7 #None\n",
    "X, Y = np.meshgrid(signal.axes_manager['dx'].axis, signal.axes_manager['dy'].axis)\n",
    "mask_temp = ~(np.sqrt(X**2+Y**2) <= cutoff)\n",
    "\n",
    "circular_mask = Al_mask_inverted * ~mask_temp\n",
    "\n",
    "plt.imshow(circular_mask)"
   ]
  },
  {
   "cell_type": "markdown",
   "metadata": {},
   "source": [
    "#### Store mask in metadata"
   ]
  },
  {
   "cell_type": "code",
   "execution_count": 17,
   "metadata": {},
   "outputs": [],
   "source": [
    "signal.metadata.add_dictionary({'Masks':{'DP':{'normal': Al_mask}}})\n",
    "signal.metadata.add_dictionary({'Masks':{'DP':{'inverted': Al_mask_inverted}}})\n",
    "signal.metadata.add_dictionary({'Masks':{'Parameters':{'Diffraction':{'x':isig_x, 'y': isig_y, 'blob':blob_params, 'r': {'minimum': minimum_r, 'maximum': maximum_r}}}}})\n",
    "signal.metadata.add_dictionary({'Masks':{'DP':{'circular': circular_mask}}})"
   ]
  },
  {
   "cell_type": "code",
   "execution_count": 18,
   "metadata": {},
   "outputs": [
    {
     "name": "stderr",
     "output_type": "stream",
     "text": [
      "WARNING:hyperspy.misc.signal_tools:Axis calibration mismatch detected along axis 0. The calibration of signal 0 along this axis will be applied to all signals after stacking.\n",
      "WARNING:hyperspy.misc.signal_tools:Axis calibration mismatch detected along axis 1. The calibration of signal 0 along this axis will be applied to all signals after stacking.\n"
     ]
    }
   ],
   "source": [
    "# The circular mask can also be used to prepare a VDF with the aperture being determined by the mask:\n",
    "roi = hs.roi.RectangularROI(left=0, top=0, right=253, bottom=252)\n",
    "(px.signals.ElectronDiffraction2D((circular_mask*signal))).plot_integrated_intensity(roi=roi)"
   ]
  },
  {
   "cell_type": "code",
   "execution_count": 20,
   "metadata": {},
   "outputs": [
    {
     "name": "stderr",
     "output_type": "stream",
     "text": [
      "WARNING:hyperspy.misc.signal_tools:Axis calibration mismatch detected along axis 0. The calibration of signal 0 along this axis will be applied to all signals after stacking.\n",
      "WARNING:hyperspy.misc.signal_tools:Axis calibration mismatch detected along axis 1. The calibration of signal 0 along this axis will be applied to all signals after stacking.\n"
     ]
    }
   ],
   "source": [
    "# Save the VDF based on the ciruclar mask:\n",
    "vdf_circular_mask = (px.signals.ElectronDiffraction2D((circular_mask*signal))).get_integrated_intensity(roi=roi)\n",
    "vdf_circular_mask.plot()"
   ]
  },
  {
   "cell_type": "markdown",
   "metadata": {},
   "source": [
    "### Real space mask"
   ]
  },
  {
   "cell_type": "markdown",
   "metadata": {},
   "source": [
    "To create a mask in real space, the following steps are executed: \n",
    "<ol>\n",
    "<li>     Rolling ball correction to account for unenven background due to contamination build-up during acquisition </li>\n",
    "<li>     Background subtraction using filtering regional maxima </li>\n",
    "<li>     Apply a white top hat to the image outputted in 2 </li>\n",
    "<li>     Threshold the image outputted in 3 by choosing a suitable threshold.  </li>\n",
    "    </ol>"
   ]
  },
  {
   "cell_type": "markdown",
   "metadata": {},
   "source": [
    "#### Define which VDF to threshold"
   ]
  },
  {
   "cell_type": "code",
   "execution_count": 20,
   "metadata": {},
   "outputs": [],
   "source": [
    "plt.close('all')\n",
    "vdf.plot()\n",
    "vdf_circular_mask.plot()"
   ]
  },
  {
   "cell_type": "code",
   "execution_count": 21,
   "metadata": {},
   "outputs": [],
   "source": [
    "#vdf = signal.metadata.VDF_interactive.data\n",
    "vdf = vdf_circular_mask"
   ]
  },
  {
   "cell_type": "markdown",
   "metadata": {},
   "source": [
    "#### Rolling ball correction"
   ]
  },
  {
   "cell_type": "code",
   "execution_count": 22,
   "metadata": {},
   "outputs": [],
   "source": [
    "from skimage.filters import threshold_local\n",
    "background = threshold_local(vdf.data, 49, offset=np.percentile(vdf,1), method='median')\n",
    "bg_corrected = vdf.data - background"
   ]
  },
  {
   "cell_type": "code",
   "execution_count": 23,
   "metadata": {},
   "outputs": [],
   "source": [
    "bg_corrected =  hs.signals.Signal2D(bg_corrected)"
   ]
  },
  {
   "cell_type": "code",
   "execution_count": 24,
   "metadata": {},
   "outputs": [],
   "source": [
    "bg_corrected.axes_manager[0].scale=0.3\n",
    "bg_corrected.axes_manager[1].scale = 0.3\n",
    "bg_corrected.axes_manager[0].units='nm'\n",
    "bg_corrected.axes_manager[1].units = 'nm'"
   ]
  },
  {
   "cell_type": "code",
   "execution_count": 25,
   "metadata": {},
   "outputs": [
    {
     "data": {
      "text/plain": [
       "Text(0.5, 1.0, 'VDF corrected for uneven background')"
      ]
     },
     "execution_count": 25,
     "metadata": {},
     "output_type": "execute_result"
    }
   ],
   "source": [
    "# Compare the corrected and the raw image:\n",
    "fig, ax = plt.subplots(ncols=2, figsize=(10,5))\n",
    "ax[0].imshow(vdf)\n",
    "ax[0].set_title('Raw VDF')\n",
    "ax[1].imshow((bg_corrected))\n",
    "ax[1].set_title('VDF corrected for uneven background')"
   ]
  },
  {
   "cell_type": "code",
   "execution_count": 30,
   "metadata": {},
   "outputs": [],
   "source": [
    "bg_corrected.plot()"
   ]
  },
  {
   "cell_type": "markdown",
   "metadata": {},
   "source": [
    "#### Background subtraction"
   ]
  },
  {
   "cell_type": "code",
   "execution_count": 27,
   "metadata": {},
   "outputs": [
    {
     "data": {
      "text/plain": [
       "<matplotlib.image.AxesImage at 0x22d0f86bdc0>"
      ]
     },
     "execution_count": 27,
     "metadata": {},
     "output_type": "execute_result"
    }
   ],
   "source": [
    "plt.close('all')\n",
    "threshold = 10000 # Threshold for background subtraction\n",
    "sigma = 0.5\n",
    "#VDF_background_subtracted = filterLocalMaxima(2*vdf.data, threshold, sigma=2)\n",
    "VDF_background_subtracted = vdfm.filterLocalMaxima(2*bg_corrected.data, threshold, sigma)\n",
    "fig,ax = plt.subplots(ncols=2, figsize=(10,5))\n",
    "ax[0].imshow(VDF_background_subtracted)\n",
    "ax[1].imshow(bg_corrected)"
   ]
  },
  {
   "cell_type": "markdown",
   "metadata": {},
   "source": [
    "#### White tophat"
   ]
  },
  {
   "cell_type": "code",
   "execution_count": 28,
   "metadata": {},
   "outputs": [
    {
     "data": {
      "text/plain": [
       "<matplotlib.image.AxesImage at 0x22d0f9e0b20>"
      ]
     },
     "execution_count": 28,
     "metadata": {},
     "output_type": "execute_result"
    }
   ],
   "source": [
    "radius = 1.7 # Remove all bright spots under the radius\n",
    "selem = morphology.disk(radius)\n",
    "res = morphology.white_tophat(VDF_background_subtracted, selem)\n",
    "fig,ax=plt.subplots(ncols=3, figsize=(20,8))\n",
    "ax[0].imshow(bg_corrected)\n",
    "ax[1].imshow(VDF_background_subtracted-res)\n",
    "ax[2].imshow(VDF_background_subtracted)"
   ]
  },
  {
   "cell_type": "markdown",
   "metadata": {},
   "source": [
    "#### Create binary image"
   ]
  },
  {
   "cell_type": "code",
   "execution_count": 29,
   "metadata": {},
   "outputs": [],
   "source": [
    "threshold = 900\n",
    "binary_vdf = (VDF_background_subtracted-res) > threshold\n",
    "#binary_vdf = vdf.data > threshold\n",
    "fig, ax = plt.subplots(ncols=3, figsize=(10,5))\n",
    "ax[0].imshow(bg_corrected)\n",
    "ax[1].imshow((VDF_background_subtracted-res))\n",
    "ax[2].imshow(binary_vdf)\n",
    "plt.show()\n",
    "#plt.imshow(vdf*~binary_vdf)"
   ]
  },
  {
   "cell_type": "code",
   "execution_count": 30,
   "metadata": {},
   "outputs": [],
   "source": [
    "Mask = hs.signals.Signal2D(binary_vdf) # Save as Signal2D"
   ]
  },
  {
   "cell_type": "code",
   "execution_count": 36,
   "metadata": {},
   "outputs": [],
   "source": [
    "Mask.plot()"
   ]
  },
  {
   "cell_type": "code",
   "execution_count": 31,
   "metadata": {},
   "outputs": [],
   "source": [
    "Mask.axes_manager = vdf.axes_manager"
   ]
  },
  {
   "cell_type": "markdown",
   "metadata": {},
   "source": [
    "#### Edit mask manually"
   ]
  },
  {
   "cell_type": "code",
   "execution_count": 25,
   "metadata": {},
   "outputs": [],
   "source": [
    "temp_mask = Mask.deepcopy()\n",
    "temp_binary_vdf = np.copy(binary_vdf)"
   ]
  },
  {
   "cell_type": "code",
   "execution_count": 36,
   "metadata": {},
   "outputs": [],
   "source": [
    "vdf.plot()"
   ]
  },
  {
   "cell_type": "code",
   "execution_count": 26,
   "metadata": {},
   "outputs": [],
   "source": [
    "reg = hs.roi.RectangularROI(left=5., right=10., top=5., bottom=10.)\n",
    "fig,ax = plt.subplots(ncols=4)\n",
    "ax[0].imshow(temp_mask)\n",
    "ax[1].imshow(VDF_background_subtracted-res)\n",
    "ax[2].imshow(vdf)\n",
    "ax[3].imshow(binary_vdf)\n",
    "temp_mask.plot()\n",
    "\n",
    "reg.add_widget(temp_mask)\n",
    "mask_xsize = temp_mask.axes_manager.shape[0]\n",
    "mask_ysize = temp_mask.axes_manager.shape[1]"
   ]
  },
  {
   "cell_type": "code",
   "execution_count": 58,
   "metadata": {},
   "outputs": [],
   "source": [
    "start_x = int(reg.x)\n",
    "start_y = int(reg.y)\n",
    "stop_x = int(start_x + reg.width)\n",
    "stop_y = int(start_y + reg.height)"
   ]
  },
  {
   "cell_type": "code",
   "execution_count": 59,
   "metadata": {},
   "outputs": [],
   "source": [
    "temp_mask.isig[start_x:stop_x, start_y:stop_y] = False"
   ]
  },
  {
   "cell_type": "code",
   "execution_count": 60,
   "metadata": {},
   "outputs": [
    {
     "data": {
      "text/plain": [
       "Text(0.5, 1.0, 'VDF')"
      ]
     },
     "execution_count": 60,
     "metadata": {},
     "output_type": "execute_result"
    }
   ],
   "source": [
    "plt.close('all')\n",
    "fig,ax = plt.subplots(ncols=3)\n",
    "ax[1].imshow(temp_mask)\n",
    "ax[1].set_title('New mask')\n",
    "ax[0].imshow(Mask)\n",
    "ax[0].set_title('Original mask')\n",
    "ax[2].imshow(vdf)\n",
    "ax[2].set_title('VDF')"
   ]
  },
  {
   "cell_type": "markdown",
   "metadata": {},
   "source": [
    "When you're happy with the mask, save it:"
   ]
  },
  {
   "cell_type": "code",
   "execution_count": 61,
   "metadata": {},
   "outputs": [],
   "source": [
    "Mask = temp_mask.deepcopy()"
   ]
  },
  {
   "cell_type": "code",
   "execution_count": 62,
   "metadata": {},
   "outputs": [],
   "source": [
    "Mask.axes_manager = vdf.axes_manager"
   ]
  },
  {
   "cell_type": "code",
   "execution_count": 67,
   "metadata": {},
   "outputs": [],
   "source": [
    "Mask.plot(scalebar = False)"
   ]
  },
  {
   "cell_type": "markdown",
   "metadata": {},
   "source": [
    "### Save masks"
   ]
  },
  {
   "cell_type": "code",
   "execution_count": 32,
   "metadata": {},
   "outputs": [],
   "source": [
    "mask_type = 'Binary_vdf_mask'\n",
    "Mask_inverted = Mask.deepcopy()\n",
    "Mask_inverted.data = ~Mask_inverted.data\n",
    "signal.metadata.add_dictionary({'Masks':{'VDF':{'normal': Mask}}})\n",
    "signal.metadata.add_dictionary({'Masks':{'VDF':{'inverted': Mask_inverted}}})\n",
    "signal.metadata.add_dictionary({'Masks':{'Parameters':{'VDF':{'Type':mask_type}}}})\n",
    "#signal.metadata.add_dictionary({'Cluster_mean_signal':cluster_mean_signal})\n",
    "Mask.metadata.General.title = 'VDF mask'\n",
    "Mask.axes_manager[0].scale = signal.axes_manager[0].scale\n",
    "Mask.axes_manager[1].scale = signal.axes_manager[1].scale\n",
    "Mask.axes_manager[0].units = signal.axes_manager[0].units\n",
    "Mask.axes_manager[1].units = signal.axes_manager[1].units\n",
    "signal.metadata.Masks.VDF.normal = Mask\n",
    "signal.metadata.Masks.VDF.inverted = Mask_inverted"
   ]
  },
  {
   "cell_type": "code",
   "execution_count": 33,
   "metadata": {},
   "outputs": [
    {
     "data": {
      "text/html": [
       "<ul style=\"margin: 0px; list-style-position: outside;\">\n",
       "                    <details open>\n",
       "                    <summary style=\"display: list-item;\">\n",
       "                    <li style=\"display: inline;\">\n",
       "                    General\n",
       "                    </li></summary>\n",
       "                    \n",
       "    <ul style=\"margin: 0px; list-style-position: outside;\">\n",
       "    <li style='margin-left:1em; padding-left: 0.5em'>direct_detector = False</li></ul>\n",
       "    \n",
       "    <ul style=\"margin: 0px; list-style-position: outside;\">\n",
       "    <li style='margin-left:1em; padding-left: 0.5em'>title = 7M42_NA4days_AA8min_SPED_scan2</li></ul>\n",
       "    </details></ul><ul style=\"margin: 0px; list-style-position: outside;\">\n",
       "                    <details open>\n",
       "                    <summary style=\"display: list-item;\">\n",
       "                    <li style=\"display: inline;\">\n",
       "                    Masks\n",
       "                    </li></summary>\n",
       "                    <ul style=\"margin: 0px; list-style-position: outside;\">\n",
       "                    <details closed>\n",
       "                    <summary style=\"display: list-item;\">\n",
       "                    <li style=\"display: inline;\">\n",
       "                    DP\n",
       "                    </li></summary>\n",
       "                    \n",
       "    <ul style=\"margin: 0px; list-style-position: outside;\">\n",
       "    <li style='margin-left:1em; padding-left: 0.5em'>circular = &lt;Signal2D, title: Al Mask (inverted), dimensions: (|256, 256)&gt;</li></ul>\n",
       "    \n",
       "    <ul style=\"margin: 0px; list-style-position: outside;\">\n",
       "    <li style='margin-left:1em; padding-left: 0.5em'>inverted = &lt;Signal2D, title: Al Mask (inverted), dimensions: (|256, 256)&gt;</li></ul>\n",
       "    \n",
       "    <ul style=\"margin: 0px; list-style-position: outside;\">\n",
       "    <li style='margin-left:1em; padding-left: 0.5em'>normal = &lt;Signal2D, title: Al Mask, dimensions: (|256, 256)&gt;</li></ul>\n",
       "    </details></ul><ul style=\"margin: 0px; list-style-position: outside;\">\n",
       "                    <details closed>\n",
       "                    <summary style=\"display: list-item;\">\n",
       "                    <li style=\"display: inline;\">\n",
       "                    Parameters\n",
       "                    </li></summary>\n",
       "                    <ul style=\"margin: 0px; list-style-position: outside;\">\n",
       "                    <details closed>\n",
       "                    <summary style=\"display: list-item;\">\n",
       "                    <li style=\"display: inline;\">\n",
       "                    Diffraction\n",
       "                    </li></summary>\n",
       "                    <ul style=\"margin: 0px; list-style-position: outside;\">\n",
       "                    <details closed>\n",
       "                    <summary style=\"display: list-item;\">\n",
       "                    <li style=\"display: inline;\">\n",
       "                    blob\n",
       "                    </li></summary>\n",
       "                    \n",
       "    <ul style=\"margin: 0px; list-style-position: outside;\">\n",
       "    <li style='margin-left:1em; padding-left: 0.5em'>max_sigma = 40</li></ul>\n",
       "    \n",
       "    <ul style=\"margin: 0px; list-style-position: outside;\">\n",
       "    <li style='margin-left:1em; padding-left: 0.5em'>min_sigma = 11</li></ul>\n",
       "    \n",
       "    <ul style=\"margin: 0px; list-style-position: outside;\">\n",
       "    <li style='margin-left:1em; padding-left: 0.5em'>num_sigma = 1</li></ul>\n",
       "    \n",
       "    <ul style=\"margin: 0px; list-style-position: outside;\">\n",
       "    <li style='margin-left:1em; padding-left: 0.5em'>overlap = 0</li></ul>\n",
       "    \n",
       "    <ul style=\"margin: 0px; list-style-position: outside;\">\n",
       "    <li style='margin-left:1em; padding-left: 0.5em'>threshold = 0.03</li></ul>\n",
       "    </details></ul><ul style=\"margin: 0px; list-style-position: outside;\">\n",
       "                    <details closed>\n",
       "                    <summary style=\"display: list-item;\">\n",
       "                    <li style=\"display: inline;\">\n",
       "                    r\n",
       "                    </li></summary>\n",
       "                    \n",
       "    <ul style=\"margin: 0px; list-style-position: outside;\">\n",
       "    <li style='margin-left:1em; padding-left: 0.5em'>maximum = 6</li></ul>\n",
       "    \n",
       "    <ul style=\"margin: 0px; list-style-position: outside;\">\n",
       "    <li style='margin-left:1em; padding-left: 0.5em'>minimum = 4</li></ul>\n",
       "    </details></ul>\n",
       "    <ul style=\"margin: 0px; list-style-position: outside;\">\n",
       "    <li style='margin-left:1em; padding-left: 0.5em'>x = 0</li></ul>\n",
       "    \n",
       "    <ul style=\"margin: 0px; list-style-position: outside;\">\n",
       "    <li style='margin-left:1em; padding-left: 0.5em'>y = 0</li></ul>\n",
       "    </details></ul><ul style=\"margin: 0px; list-style-position: outside;\">\n",
       "                    <details closed>\n",
       "                    <summary style=\"display: list-item;\">\n",
       "                    <li style=\"display: inline;\">\n",
       "                    VDF\n",
       "                    </li></summary>\n",
       "                    \n",
       "    <ul style=\"margin: 0px; list-style-position: outside;\">\n",
       "    <li style='margin-left:1em; padding-left: 0.5em'>Type = Binary_vdf_mask</li></ul>\n",
       "    </details></ul></details></ul><ul style=\"margin: 0px; list-style-position: outside;\">\n",
       "                    <details closed>\n",
       "                    <summary style=\"display: list-item;\">\n",
       "                    <li style=\"display: inline;\">\n",
       "                    VDF\n",
       "                    </li></summary>\n",
       "                    \n",
       "    <ul style=\"margin: 0px; list-style-position: outside;\">\n",
       "    <li style='margin-left:1em; padding-left: 0.5em'>inverted = &lt;Signal2D, title: , dimensions: (|100, 100)&gt;</li></ul>\n",
       "    \n",
       "    <ul style=\"margin: 0px; list-style-position: outside;\">\n",
       "    <li style='margin-left:1em; padding-left: 0.5em'>normal = &lt;Signal2D, title: VDF mask, dimensions: (|100, 100)&gt;</li></ul>\n",
       "    </details></ul></details></ul><ul style=\"margin: 0px; list-style-position: outside;\">\n",
       "                    <details open>\n",
       "                    <summary style=\"display: list-item;\">\n",
       "                    <li style=\"display: inline;\">\n",
       "                    Sample\n",
       "                    </li></summary>\n",
       "                    \n",
       "    <ul style=\"margin: 0px; list-style-position: outside;\">\n",
       "    <li style='margin-left:1em; padding-left: 0.5em'>alloy = 7M42</li></ul>\n",
       "    \n",
       "    <ul style=\"margin: 0px; list-style-position: outside;\">\n",
       "    <li style='margin-left:1em; padding-left: 0.5em'>deformation = SPED</li></ul>\n",
       "    \n",
       "    <ul style=\"margin: 0px; list-style-position: outside;\">\n",
       "    <li style='margin-left:1em; padding-left: 0.5em'>temper = NA4days_AA8min</li></ul>\n",
       "    </details></ul><ul style=\"margin: 0px; list-style-position: outside;\">\n",
       "                    <details open>\n",
       "                    <summary style=\"display: list-item;\">\n",
       "                    <li style=\"display: inline;\">\n",
       "                    Signal\n",
       "                    </li></summary>\n",
       "                    \n",
       "    <ul style=\"margin: 0px; list-style-position: outside;\">\n",
       "    <li style='margin-left:1em; padding-left: 0.5em'>binned = False</li></ul>\n",
       "    <ul style=\"margin: 0px; list-style-position: outside;\">\n",
       "                    <details closed>\n",
       "                    <summary style=\"display: list-item;\">\n",
       "                    <li style=\"display: inline;\">\n",
       "                    calibration\n",
       "                    </li></summary>\n",
       "                    \n",
       "    <ul style=\"margin: 0px; list-style-position: outside;\">\n",
       "    <li style='margin-left:1em; padding-left: 0.5em'>diffraction = 0.008</li></ul>\n",
       "    \n",
       "    <ul style=\"margin: 0px; list-style-position: outside;\">\n",
       "    <li style='margin-left:1em; padding-left: 0.5em'>position = 0.3</li></ul>\n",
       "    </details></ul>\n",
       "    <ul style=\"margin: 0px; list-style-position: outside;\">\n",
       "    <li style='margin-left:1em; padding-left: 0.5em'>signal_type = electron_diffraction</li></ul>\n",
       "    </details></ul><ul style=\"margin: 0px; list-style-position: outside;\">\n",
       "                    <details open>\n",
       "                    <summary style=\"display: list-item;\">\n",
       "                    <li style=\"display: inline;\">\n",
       "                    VDF_interactive\n",
       "                    </li></summary>\n",
       "                    \n",
       "    <ul style=\"margin: 0px; list-style-position: outside;\">\n",
       "    <li style='margin-left:1em; padding-left: 0.5em'>data = &lt;Signal2D, title: VDF, dimensions: (|100, 100)&gt;</li></ul>\n",
       "    \n",
       "    <ul style=\"margin: 0px; list-style-position: outside;\">\n",
       "    <li style='margin-left:1em; padding-left: 0.5em'>title = VDF</li></ul>\n",
       "    </details></ul>"
      ],
      "text/plain": [
       "├── General\n",
       "│   ├── direct_detector = False\n",
       "│   └── title = 7M42_NA4days_AA8min_SPED_scan2\n",
       "├── Masks\n",
       "│   ├── DP\n",
       "│   │   ├── circular = <Signal2D, title: Al Mask (inverted), dimensions: (|256, 256)>\n",
       "│   │   ├── inverted = <Signal2D, title: Al Mask (inverted), dimensions: (|256, 256)>\n",
       "│   │   └── normal = <Signal2D, title: Al Mask, dimensions: (|256, 256)>\n",
       "│   ├── Parameters\n",
       "│   │   ├── Diffraction\n",
       "│   │   │   ├── blob\n",
       "│   │   │   │   ├── max_sigma = 40\n",
       "│   │   │   │   ├── min_sigma = 11\n",
       "│   │   │   │   ├── num_sigma = 1\n",
       "│   │   │   │   ├── overlap = 0\n",
       "│   │   │   │   └── threshold = 0.03\n",
       "│   │   │   ├── r\n",
       "│   │   │   │   ├── maximum = 6\n",
       "│   │   │   │   └── minimum = 4\n",
       "│   │   │   ├── x = 0\n",
       "│   │   │   └── y = 0\n",
       "│   │   └── VDF\n",
       "│   │       └── Type = Binary_vdf_mask\n",
       "│   └── VDF\n",
       "│       ├── inverted = <Signal2D, title: , dimensions: (|100, 100)>\n",
       "│       └── normal = <Signal2D, title: VDF mask, dimensions: (|100, 100)>\n",
       "├── Sample\n",
       "│   ├── alloy = 7M42\n",
       "│   ├── deformation = SPED\n",
       "│   └── temper = NA4days_AA8min\n",
       "├── Signal\n",
       "│   ├── binned = False\n",
       "│   ├── calibration\n",
       "│   │   ├── diffraction = 0.008\n",
       "│   │   └── position = 0.3\n",
       "│   └── signal_type = electron_diffraction\n",
       "└── VDF_interactive\n",
       "    ├── data = <Signal2D, title: VDF, dimensions: (|100, 100)>\n",
       "    └── title = VDF"
      ]
     },
     "execution_count": 33,
     "metadata": {},
     "output_type": "execute_result"
    }
   ],
   "source": [
    "signal.metadata"
   ]
  },
  {
   "cell_type": "code",
   "execution_count": null,
   "metadata": {},
   "outputs": [],
   "source": [
    "signal.save(directory + file_name)"
   ]
  },
  {
   "cell_type": "markdown",
   "metadata": {},
   "source": [
    "## Create simplified dataset where each pixel within a cluster will be the sum of DPs in that cluster"
   ]
  },
  {
   "cell_type": "code",
   "execution_count": 34,
   "metadata": {},
   "outputs": [
    {
     "name": "stdout",
     "output_type": "stream",
     "text": [
      "Number of individual clusters:  35\n"
     ]
    }
   ],
   "source": [
    "labeled = morphology.label(Mask.data, connectivity=2)\n",
    "print('Number of individual clusters: ', len(np.unique(labeled[1:])))"
   ]
  },
  {
   "cell_type": "code",
   "execution_count": 35,
   "metadata": {},
   "outputs": [],
   "source": [
    "clusters = []\n",
    "import math\n",
    "cluster_mean_signal = signal.deepcopy()\n",
    "index = 0\n",
    "for i in np.unique(labeled)[1:]:\n",
    "    cluster = signal.data[labeled==i]\n",
    "    cluster = px.signals.ElectronDiffraction2D(cluster)\n",
    "    clusters.append(cluster)\n",
    "    cluster_mean_signal.data[labeled==i] = cluster.sum((0))"
   ]
  },
  {
   "cell_type": "code",
   "execution_count": 36,
   "metadata": {},
   "outputs": [],
   "source": [
    "cluster_mean_signal.plot()"
   ]
  },
  {
   "cell_type": "markdown",
   "metadata": {},
   "source": [
    "### Plot and save average DPs from individual clusters"
   ]
  },
  {
   "cell_type": "markdown",
   "metadata": {},
   "source": [
    "To enhance the signal in each average diffraction pattern, the following pixel-by-pixel transformation was applied to each pattern: \\\n",
    "    $$ I_{enhanced} = 1 - e^{\\frac{I_{initial}}{n}} $$\n",
    "Firstly, test with different n's to find an appropriate value for the data:"
   ]
  },
  {
   "cell_type": "code",
   "execution_count": 37,
   "metadata": {},
   "outputs": [],
   "source": [
    "vdf.axes_manager[0].scale = 0.3\n",
    "vdf.axes_manager[1].scale = 0.3\n",
    "vdf.axes_manager[0].units = 'nm'\n",
    "vdf.axes_manager[1].units = 'nm'"
   ]
  },
  {
   "cell_type": "code",
   "execution_count": 95,
   "metadata": {},
   "outputs": [],
   "source": [
    "vdf.plot()"
   ]
  },
  {
   "cell_type": "code",
   "execution_count": 81,
   "metadata": {},
   "outputs": [],
   "source": [
    "Mask.plot()"
   ]
  },
  {
   "cell_type": "code",
   "execution_count": 12,
   "metadata": {},
   "outputs": [
    {
     "data": {
      "text/plain": [
       "Text(0.5, 1.0, 'Original DP (log)')"
      ]
     },
     "execution_count": 12,
     "metadata": {},
     "output_type": "execute_result"
    }
   ],
   "source": [
    "n = 98\n",
    "from matplotlib import colors\n",
    "cluster_now = clusters[0].max(0).data\n",
    "test_dp = 1-np.exp((-cluster_now/n))\n",
    "fig,ax = plt.subplots(ncols=2)\n",
    "ax[0].imshow(test_dp)\n",
    "ax[0].set_title('Filtered DP')\n",
    "ax[1].imshow(cluster_now, norm=colors.LogNorm())\n",
    "ax[1].set_title('Original DP (log)')"
   ]
  },
  {
   "cell_type": "code",
   "execution_count": 59,
   "metadata": {},
   "outputs": [
    {
     "data": {
      "text/plain": [
       "Text(0.5, 1.0, 'Max')"
      ]
     },
     "execution_count": 59,
     "metadata": {},
     "output_type": "execute_result"
    }
   ],
   "source": [
    "# Compare the sum, mean, variance, std and max for a particular average DP:\n",
    "\n",
    "from matplotlib import colors\n",
    "cluster_now = clusters[0]\n",
    "fig,ax = plt.subplots(ncols=5)\n",
    "ax[0].imshow(cluster_now.sum(0), norm=colors.LogNorm())\n",
    "ax[0].set_title('Sum')\n",
    "ax[1].imshow(cluster_now.mean(0), norm=colors.LogNorm())\n",
    "ax[1].set_title('Mean')\n",
    "ax[2].imshow(cluster_now.var(0), norm=colors.LogNorm())\n",
    "ax[2].set_title('Variance')\n",
    "ax[3].imshow(cluster_now.std(0), norm=colors.LogNorm())\n",
    "ax[3].set_title('Std')\n",
    "ax[4].imshow(cluster_now.max(0), norm=colors.LogNorm())\n",
    "ax[4].set_title('Max')\n"
   ]
  },
  {
   "cell_type": "markdown",
   "metadata": {},
   "source": [
    "When you are happy with the enhanced image, save each average DP as a png. This routine makes it possible to save the mean DP and the raw DP, with logarithmic scale or with the inverted gaussian filter"
   ]
  },
  {
   "cell_type": "code",
   "execution_count": 104,
   "metadata": {},
   "outputs": [
    {
     "data": {
      "text/plain": [
       "<matplotlib.image.AxesImage at 0x1452588f610>"
      ]
     },
     "execution_count": 104,
     "metadata": {},
     "output_type": "execute_result"
    }
   ],
   "source": [
    "plt.imshow(1-np.exp((-DP_sum.mean(0).data)/n_mean), cmap='gray')"
   ]
  },
  {
   "cell_type": "code",
   "execution_count": 106,
   "metadata": {},
   "outputs": [
    {
     "name": "stderr",
     "output_type": "stream",
     "text": [
      "<ipython-input-106-8fcbd057b7b3>:32: MatplotlibDeprecationWarning: savefig() got unexpected keyword argument \"norm\" which is no longer supported as of 3.3 and will become an error two minor releases later\n",
      "  plt.savefig('{}/Clusters_binary_vdf_mean_paper/Cluster_{}'.format(output_directory, counter), norm=colors.LogNorm,bbox_inches='tight', pad_inches=0)\n",
      "<ipython-input-106-8fcbd057b7b3>:46: MatplotlibDeprecationWarning: savefig() got unexpected keyword argument \"norm\" which is no longer supported as of 3.3 and will become an error two minor releases later\n",
      "  plt.savefig('{}/Clusters_binary_vdf_max/Dp_max_{}'.format(output_directory, counter), norm=colors.LogNorm(),bbox_inches='tight', pad_inches=0)\n",
      "<ipython-input-106-8fcbd057b7b3>:60: MatplotlibDeprecationWarning: savefig() got unexpected keyword argument \"norm\" which is no longer supported as of 3.3 and will become an error two minor releases later\n",
      "  plt.savefig('{}/Clusters_binary_vdf_max_gauss_paper/Dp_max_raw_{}'.format(output_directory, counter), norm=colors.LogNorm(),bbox_inches='tight', pad_inches=0)\n"
     ]
    }
   ],
   "source": [
    "counter = 0\n",
    "n_mean = 15\n",
    "n_raw = 100\n",
    "output_directory = directory\n",
    "from matplotlib import colors\n",
    "for DP_sum in clusters:\n",
    "    # Mean inverted gauss:\n",
    "    plt.gca().set_axis_off()\n",
    "    plt.subplots_adjust(top=1, bottom=0, right=1, left=0, hspace=0, wspace=0)\n",
    "    plt.margins(0,0)\n",
    "    plt.gca().xaxis.set_major_locator(plt.NullLocator())\n",
    "    plt.gca().yaxis.set_major_locator(plt.NullLocator())\n",
    "    plt.imshow(1-np.exp((-DP_sum.mean(0).data)/n_mean), cmap='gray')\n",
    "    try:\n",
    "        os.mkdir('{}/Clusters_binary_vdf_inverted_gauss_paper'.format(output_directory))\n",
    "    except:\n",
    "        pass\n",
    "    plt.savefig('{}/Clusters_binary_vdf_inverted_gauss_paper/Cluster_inverted_gauss_{}'.format(output_directory, counter),bbox_inches='tight', pad_inches=0)\n",
    "    plt.close()\n",
    "    \n",
    "    # log mean DP:\n",
    "    plt.gca().set_axis_off()\n",
    "    plt.subplots_adjust(top=1, bottom=0, right=1, left=0, hspace=0, wspace=0)\n",
    "    plt.margins(0,0)\n",
    "    plt.gca().xaxis.set_major_locator(plt.NullLocator())\n",
    "    plt.gca().yaxis.set_major_locator(plt.NullLocator())\n",
    "    plt.imshow(DP_sum.mean(0), norm=colors.LogNorm(), cmap='gray')\n",
    "    try:\n",
    "        os.mkdir('{}/Clusters_binary_vdf_mean_paper/'.format(output_directory))\n",
    "    except:\n",
    "        pass\n",
    "    plt.savefig('{}/Clusters_binary_vdf_mean_paper/Cluster_{}'.format(output_directory, counter), norm=colors.LogNorm,bbox_inches='tight', pad_inches=0)\n",
    "    plt.close()\n",
    "    \n",
    "    # Log Max DP in certain cluster:\n",
    "    plt.gca().set_axis_off()\n",
    "    plt.subplots_adjust(top=1, bottom=0, right=1, left=0, hspace=0, wspace=0)\n",
    "    plt.margins(0,0)\n",
    "    plt.gca().xaxis.set_major_locator(plt.NullLocator())\n",
    "    plt.gca().yaxis.set_major_locator(plt.NullLocator())\n",
    "    plt.imshow(DP_sum.max(0), norm=colors.LogNorm(), cmap='gray')\n",
    "    try:\n",
    "        os.mkdir('{}/Clusters_binary_vdf_max/'.format(output_directory))\n",
    "    except:\n",
    "        pass\n",
    "    plt.savefig('{}/Clusters_binary_vdf_max/Dp_max_{}'.format(output_directory, counter), norm=colors.LogNorm(),bbox_inches='tight', pad_inches=0)\n",
    "    plt.close()\n",
    "\n",
    "    # Max DP with inverted gaussian filter:\n",
    "    plt.gca().set_axis_off()\n",
    "    plt.subplots_adjust(top=1, bottom=0, right=1, left=0, hspace=0, wspace=0)\n",
    "    plt.margins(0,0)\n",
    "    plt.gca().xaxis.set_major_locator(plt.NullLocator())\n",
    "    plt.gca().yaxis.set_major_locator(plt.NullLocator())\n",
    "    plt.imshow(1-np.exp((-DP_sum.max(0).data)/n_raw), cmap='gray')\n",
    "    try:\n",
    "        os.mkdir('{}/Clusters_binary_vdf_max_gauss_paper/'.format(output_directory))\n",
    "    except:\n",
    "        pass\n",
    "    plt.savefig('{}/Clusters_binary_vdf_max_gauss_paper/Dp_max_raw_{}'.format(output_directory, counter), norm=colors.LogNorm(),bbox_inches='tight', pad_inches=0)\n",
    "    plt.close()\n",
    "               \n",
    "    counter +=1"
   ]
  },
  {
   "cell_type": "markdown",
   "metadata": {},
   "source": [
    "## Decomposition of the dataset"
   ]
  },
  {
   "cell_type": "markdown",
   "metadata": {},
   "source": [
    "Do decomposition of the dataset. Any decomposition routine from hyperspy is applicable. Read the hyperspy documentation for more information about the available decomposition routines. \n",
    "The goal of the decomposition is to do dimensional reduction and obtain a simplified dataset. The decomposition can be done with or without masks in reciprocal space. It is advisable to use masks at least in reciprocal space, as local variations of the Al reflections will be easily picked up by the decomposition."
   ]
  },
  {
   "cell_type": "code",
   "execution_count": 38,
   "metadata": {},
   "outputs": [
    {
     "name": "stdout",
     "output_type": "stream",
     "text": [
      "signal_decomp not found, now copying \n"
     ]
    }
   ],
   "source": [
    "components = 6\n",
    "try:\n",
    "    signal_decomp\n",
    "except:\n",
    "    print('signal_decomp not found, now copying ')\n",
    "    signal_decomp = signal.deepcopy()\n",
    "    signal_decomp.change_dtype('float32')\n",
    "    signal_decomp = px.signals.electron_diffraction2d.ElectronDiffraction2D(signal_decomp)\n",
    "#vdf_mask = signal.metadata.Masks.VDF.inverted.data # Set to None if you don't want masks\n",
    "diff_mask = ~circular_mask.data\n",
    "#diff_mask = signal.metadata.Masks.DP.normal.data \n",
    "algorithm = \"NMF\" # Change here between svd and nmf\n",
    "max_iter = 200 #200 is default from sklearn"
   ]
  },
  {
   "cell_type": "code",
   "execution_count": 39,
   "metadata": {},
   "outputs": [
    {
     "name": "stderr",
     "output_type": "stream",
     "text": [
      "C:\\Users\\elisathr\\AppData\\Local\\Continuum\\anaconda3\\envs\\pyxem0.13.2\\lib\\site-packages\\sklearn\\decomposition\\_nmf.py:312: FutureWarning: The 'init' value, when 'init=None' and n_components is less than n_samples and n_features, will be changed from 'nndsvd' to 'nndsvda' in 1.1 (renaming of 0.26).\n",
      "  warnings.warn((\"The 'init' value, when 'init=None' and \"\n",
      "C:\\Users\\elisathr\\AppData\\Local\\Continuum\\anaconda3\\envs\\pyxem0.13.2\\lib\\site-packages\\sklearn\\decomposition\\_nmf.py:1090: ConvergenceWarning: Maximum number of iterations 200 reached. Increase it to improve convergence.\n",
      "  warnings.warn(\"Maximum number of iterations %d reached. Increase it to\"\n"
     ]
    },
    {
     "name": "stdout",
     "output_type": "stream",
     "text": [
      "Decomposition info:\n",
      "  normalize_poissonian_noise=True\n",
      "  algorithm=NMF\n",
      "  output_dimension=6\n",
      "  centre=None\n",
      "scikit-learn estimator:\n",
      "NMF(n_components=6)\n"
     ]
    }
   ],
   "source": [
    "signal_decomp.decomposition(algorithm=algorithm, normalize_poissonian_noise=True, output_dimension=components, signal_mask=diff_mask)#, navigation_mask =vdf_mask)"
   ]
  },
  {
   "cell_type": "markdown",
   "metadata": {},
   "source": [
    "### Check decomposition"
   ]
  },
  {
   "cell_type": "code",
   "execution_count": 40,
   "metadata": {},
   "outputs": [
    {
     "name": "stderr",
     "output_type": "stream",
     "text": [
      "WARNING:hyperspy.drawing.mpl_he:Navigation sliders not available. No toolkit registered. Install hyperspy_gui_ipywidgets or hyperspy_gui_traitsui GUI elements.\n"
     ]
    }
   ],
   "source": [
    "plt.close('all')\n",
    "%matplotlib qt\n",
    "signal_decomp.plot_decomposition_results() # Plots the results."
   ]
  },
  {
   "cell_type": "code",
   "execution_count": null,
   "metadata": {},
   "outputs": [],
   "source": [
    "%matplotlib qt"
   ]
  },
  {
   "cell_type": "code",
   "execution_count": null,
   "metadata": {},
   "outputs": [],
   "source": [
    "# Plot Scree plot from svd decomposition. \n",
    "if algorithm == 'svd':\n",
    "    signal_decomp.plot_explained_variance_ratio()"
   ]
  },
  {
   "cell_type": "code",
   "execution_count": 41,
   "metadata": {},
   "outputs": [],
   "source": [
    "from ClusterAnalysis import plot as caplt\n",
    "output_directory = r'E:\\PhD\\MERLIN\\ZM42\\Na4d_AA8min\\2021_01_22_s10a\\20210122 105644\\Test_run'"
   ]
  },
  {
   "cell_type": "code",
   "execution_count": 42,
   "metadata": {},
   "outputs": [
    {
     "name": "stdout",
     "output_type": "stream",
     "text": [
      "Saving images in new directory:  E:\\PhD\\MERLIN\\ZM42\\Na4d_AA8min\\2021_01_22_s10a\\20210122 105644\\Test_runNMF_6_components\n",
      "Figure dimensions:\n",
      "\twidth: 6.944 in\n",
      "\theight:3.472 in.\n",
      "\n",
      "Figure dimensions:\n",
      "\twidth: 6.944 in\n",
      "\theight:3.472 in.\n",
      "\n",
      "Figure dimensions:\n",
      "\twidth: 6.944 in\n",
      "\theight:3.472 in.\n",
      "\n",
      "Figure dimensions:\n",
      "\twidth: 6.944 in\n",
      "\theight:3.472 in.\n",
      "\n",
      "Figure dimensions:\n",
      "\twidth: 6.944 in\n",
      "\theight:3.472 in.\n",
      "\n",
      "Figure dimensions:\n",
      "\twidth: 6.944 in\n",
      "\theight:3.472 in.\n",
      "\n"
     ]
    }
   ],
   "source": [
    "factors = signal_decomp.get_decomposition_factors()\n",
    "loadings = signal_decomp.get_decomposition_loadings()\n",
    "caplt.save_component_maps(signal_decomp,factors, loadings, algorithm, output_directory, components, scalebar=False, \n",
    "                      saveFactorsLoadings=True) # Scalebar only works if you have matplotlib-scalebar package installed (https://pypi.org/project/matplotlib-scalebar/)"
   ]
  },
  {
   "cell_type": "markdown",
   "metadata": {},
   "source": [
    "### Load pre-decomposed dataset"
   ]
  },
  {
   "cell_type": "markdown",
   "metadata": {},
   "source": [
    "Load a pre-decomposed dataset and prepare a composite map of components and loadings from the decomposition"
   ]
  },
  {
   "cell_type": "code",
   "execution_count": 2,
   "metadata": {},
   "outputs": [],
   "source": [
    "import ClusterAnalysis.plot as caplt"
   ]
  },
  {
   "cell_type": "code",
   "execution_count": 3,
   "metadata": {},
   "outputs": [],
   "source": [
    "path = r'E:\\PhD\\MERLIN\\ZM42\\Na4d_AA8min\\2021_01_22_s10a\\20210122 105644\\nmf_6_components'.replace('\\\\','\\\\\\\\')\n",
    "file_factors = r'/factors_nmf_6comp.hdf5'\n",
    "file_loadings = r'/loadings_nmf_6comp.hdf5'\n",
    "factors = hs.load(path + file_factors)\n",
    "loadings = hs.load(path + file_loadings)"
   ]
  },
  {
   "cell_type": "code",
   "execution_count": 4,
   "metadata": {},
   "outputs": [],
   "source": [
    "rgb_factors, rgb_loadings, components, rgb_colors = caplt.decomp_as_rgb(factors, loadings, 'rgb')"
   ]
  },
  {
   "cell_type": "code",
   "execution_count": 5,
   "metadata": {},
   "outputs": [],
   "source": [
    "rgba_factors, rgba_loadings, components, rgba_colors = caplt.decomp_as_rgb(factors, loadings, 'rgba', threshold=0.01)"
   ]
  },
  {
   "cell_type": "code",
   "execution_count": 6,
   "metadata": {},
   "outputs": [
    {
     "name": "stderr",
     "output_type": "stream",
     "text": [
      "WARNING:hyperspy.drawing.mpl_he:Navigation sliders not available. No toolkit registered. Install hyperspy_gui_ipywidgets or hyperspy_gui_traitsui GUI elements.\n",
      "WARNING:hyperspy.drawing.mpl_he:Navigation sliders not available. No toolkit registered. Install hyperspy_gui_ipywidgets or hyperspy_gui_traitsui GUI elements.\n"
     ]
    }
   ],
   "source": [
    "rgba_loadings.plot()\n",
    "rgba_factors.plot()"
   ]
  },
  {
   "cell_type": "code",
   "execution_count": 7,
   "metadata": {},
   "outputs": [],
   "source": [
    "component_start = 2\n",
    "component_stop = 5\n",
    "rgb_factors = rgb_factors.inav[component_start:component_stop]\n",
    "rgb_loadings = rgb_loadings.inav[component_start:component_stop]\n",
    "\n",
    "rgba_factors = rgba_factors.inav[component_start:component_stop]\n",
    "rgba_loadings = rgba_loadings.inav[component_start:component_stop]\n",
    "\n",
    "components = components[component_start:component_stop+1]"
   ]
  },
  {
   "cell_type": "code",
   "execution_count": 8,
   "metadata": {},
   "outputs": [
    {
     "name": "stderr",
     "output_type": "stream",
     "text": [
      "C:\\Users\\elisathr\\AppData\\Local\\Continuum\\anaconda3\\envs\\pyxem0.13.2\\lib\\site-packages\\hyperspy\\drawing\\utils.py:839: UserWarning: Sorry, colorbar is not implemented for RGB images.\n",
      "  warnings.warn(\"Sorry, colorbar is not implemented for RGB images.\")\n"
     ]
    }
   ],
   "source": [
    "import matplotlib\n",
    "import matplotlib.cm as cm\n",
    "fontsize = 12\n",
    "hs.plot.plot_images([rgb_factors.inav[0], rgba_factors, rgba_loadings.inav[0], rgba_loadings], per_row = len(rgba_factors)+1, axes_decor=None, label = None, scalebar=None, \n",
    "                scalebar_color='black', padding = {'left': 0, 'right': 1, 'bottom': 0, 'top': 1, 'wspace': 0.01, 'hspace': 0.01})\n",
    "fig = plt.gcf()\n",
    "axes = fig.get_axes()\n",
    "axes[0].cla()\n",
    "for i in range(len(rgba_factors)):\n",
    "    rgb_copy = rgba_factors.inav[i].deepcopy()\n",
    "    rgb_copy.change_dtype('uint16')\n",
    "    data = rgb_copy.data\n",
    "    data = (data/np.max(data))\n",
    "    axes[0].imshow(data)\n",
    "    \n",
    "N = len(rgb_factors) + 1\n",
    "axes[N].cla()\n",
    "for i in range(len(rgba_loadings)):\n",
    "    rgb_copy = rgba_loadings.inav[i].deepcopy()\n",
    "    rgb_copy.change_dtype('uint16')\n",
    "    data = rgb_copy.data\n",
    "    data = (data/np.max(data))\n",
    "    axes[N].imshow(data)\n",
    "\n",
    "for ax in axes:\n",
    "    #ax.set_facecolor('k')\n",
    "    ax.set_xticks([])\n",
    "    ax.set_yticks([])\n",
    "\n",
    "fig.set_size_inches((3*len(rgba_factors), 3*2))"
   ]
  }
 ],
 "metadata": {
  "kernelspec": {
   "display_name": "Python (pyxem0.13.2)",
   "language": "python",
   "name": "pyxem0.13.2"
  },
  "language_info": {
   "codemirror_mode": {
    "name": "ipython",
    "version": 3
   },
   "file_extension": ".py",
   "mimetype": "text/x-python",
   "name": "python",
   "nbconvert_exporter": "python",
   "pygments_lexer": "ipython3",
   "version": "3.9.4"
  }
 },
 "nbformat": 4,
 "nbformat_minor": 4
}
